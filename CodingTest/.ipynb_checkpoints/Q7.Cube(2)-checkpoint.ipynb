{
 "cells": [
  {
   "cell_type": "code",
   "execution_count": 16,
   "metadata": {},
   "outputs": [],
   "source": [
    "cross=[[3, 0, 1, 1, 8],\n",
    "      [5, 0, 4, 5, 4],\n",
    "      [1, 5, 0, 5, 1],\n",
    "      [1, 2, 1, 0, 1],\n",
    "      [0, 2, 5, 1, 1]],[[1, 2, 0, 3, 3],\n",
    "     [1, 2, 0, 2, 4],\n",
    "     [1, 2, 0, 2, 4],\n",
    "     [4, 2, 0, 0, 1],\n",
    "     [8, 4, 1, 1, 0]],"
   ]
  },
  {
   "cell_type": "code",
   "execution_count": 17,
   "metadata": {},
   "outputs": [
    {
     "data": {
      "text/plain": [
       "[[3, 0, 1, 1, 8],\n",
       " [5, 0, 4, 5, 4],\n",
       " [1, 5, 0, 5, 1],\n",
       " [1, 2, 1, 0, 1],\n",
       " [0, 2, 5, 1, 1],\n",
       " [1, 2, 0, 3, 3],\n",
       " [1, 2, 0, 2, 4],\n",
       " [1, 2, 0, 2, 4],\n",
       " [4, 2, 0, 0, 1],\n",
       " [8, 4, 1, 1, 0]]"
      ]
     },
     "execution_count": 17,
     "metadata": {},
     "output_type": "execute_result"
    }
   ],
   "source": [
    "cross_=cross[0]+cross[1]\n",
    "cross_"
   ]
  },
  {
   "cell_type": "code",
   "execution_count": 18,
   "metadata": {},
   "outputs": [
    {
     "data": {
      "text/plain": [
       "8"
      ]
     },
     "execution_count": 18,
     "metadata": {},
     "output_type": "execute_result"
    }
   ],
   "source": [
    "cross_[0]\n",
    "cross_[0][4]"
   ]
  },
  {
   "cell_type": "code",
   "execution_count": 19,
   "metadata": {},
   "outputs": [
    {
     "name": "stdout",
     "output_type": "stream",
     "text": [
      "4\n",
      "3\n",
      "2\n",
      "1\n",
      "0\n"
     ]
    }
   ],
   "source": [
    "for i in range(4, -1, -1) : \n",
    "    print(i)"
   ]
  },
  {
   "cell_type": "code",
   "execution_count": 22,
   "metadata": {},
   "outputs": [
    {
     "name": "stdout",
     "output_type": "stream",
     "text": [
      "0 4 8\n",
      "0 3 1\n",
      "0 2 1\n",
      "0 1 0\n",
      "0 0 3\n",
      "1 4 4\n",
      "1 3 5\n",
      "1 2 4\n",
      "1 1 0\n",
      "1 0 5\n",
      "2 4 1\n",
      "2 3 5\n",
      "2 2 0\n",
      "2 1 5\n",
      "2 0 1\n",
      "3 4 1\n",
      "3 3 0\n",
      "3 2 1\n",
      "3 1 2\n",
      "3 0 1\n",
      "4 4 1\n",
      "4 3 1\n",
      "4 2 5\n",
      "4 1 2\n",
      "4 0 0\n"
     ]
    }
   ],
   "source": [
    "for i in range(len(cross_)) : \n",
    "    for j in range(4, -1, -1) : \n",
    "        print(i, j, cross_[i][j])"
   ]
  },
  {
   "cell_type": "code",
   "execution_count": null,
   "metadata": {},
   "outputs": [],
   "source": []
  }
 ],
 "metadata": {
  "kernelspec": {
   "display_name": "Python 3",
   "language": "python",
   "name": "python3"
  },
  "language_info": {
   "codemirror_mode": {
    "name": "ipython",
    "version": 3
   },
   "file_extension": ".py",
   "mimetype": "text/x-python",
   "name": "python",
   "nbconvert_exporter": "python",
   "pygments_lexer": "ipython3",
   "version": "3.7.0"
  }
 },
 "nbformat": 4,
 "nbformat_minor": 4
}
