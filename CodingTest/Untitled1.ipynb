{
 "cells": [
  {
   "cell_type": "code",
   "execution_count": 70,
   "metadata": {},
   "outputs": [],
   "source": [
    "import numpy as np\n",
    "\n",
    "첫번째밭 = [\n",
    "    [1, 0, 0, 0, 0],\n",
    "    [0, 0, 1, 0, 1],\n",
    "    [0, 0, 1, 0, 1],\n",
    "    [0, 0, 1, 0, 1],\n",
    "    [0, 0, 1, 0, 1]\n",
    "]\n",
    "\n",
    "두번째밭 = [\n",
    "    [0, 0, 0, 0, 1],\n",
    "    [0, 0, 0, 0, 3],\n",
    "    [0, 0, 0, 0, 4],\n",
    "    [0, 2, 0, 0, 2],\n",
    "    [4, 5, 0, 2, 0]\n",
    "]\n"
   ]
  },
  {
   "cell_type": "code",
   "execution_count": 40,
   "metadata": {},
   "outputs": [
    {
     "data": {
      "text/plain": [
       "array([[ 0, -3, -4, -2,  0],\n",
       "       [ 0,  0,  1,  0, -1],\n",
       "       [ 0,  0,  1,  0,  1],\n",
       "       [ 0,  0,  1, -2, -4],\n",
       "       [ 0,  0,  1,  0, -3]])"
      ]
     },
     "execution_count": 40,
     "metadata": {},
     "output_type": "execute_result"
    }
   ],
   "source": [
    "np.array(첫번째밭)-np.rot90(두번째밭, 1) "
   ]
  },
  {
   "cell_type": "code",
   "execution_count": 20,
   "metadata": {},
   "outputs": [
    {
     "data": {
      "text/plain": [
       "array([[1, 0, 0, 0, 0],\n",
       "       [0, 0, 0, 0, 2],\n",
       "       [0, 0, 0, 0, 0],\n",
       "       [0, 0, 0, 0, 5],\n",
       "       [0, 0, 0, 0, 4]])"
      ]
     },
     "execution_count": 20,
     "metadata": {},
     "output_type": "execute_result"
    }
   ],
   "source": [
    "np.array(첫번째밭)*np.rot90(두번째밭, 1) "
   ]
  },
  {
   "cell_type": "code",
   "execution_count": 22,
   "metadata": {},
   "outputs": [
    {
     "data": {
      "text/plain": [
       "array([[1, 3, 4, 2, 0],\n",
       "       [0, 0, 0, 0, 4],\n",
       "       [0, 0, 0, 0, 4],\n",
       "       [0, 0, 0, 0, 4],\n",
       "       [0, 0, 0, 0, 4]])"
      ]
     },
     "execution_count": 22,
     "metadata": {},
     "output_type": "execute_result"
    }
   ],
   "source": [
    "np.array(첫번째밭)@np.rot90(두번째밭, 1) "
   ]
  },
  {
   "cell_type": "code",
   "execution_count": 28,
   "metadata": {},
   "outputs": [
    {
     "data": {
      "text/plain": [
       "'23420'"
      ]
     },
     "execution_count": 28,
     "metadata": {},
     "output_type": "execute_result"
    }
   ],
   "source": [
    "정답 = np.rot90(두번째밭, 1) +np.array(첫번째밭)\n",
    "''.join([str(i) for i in 정답[0]])"
   ]
  },
  {
   "cell_type": "code",
   "execution_count": 32,
   "metadata": {},
   "outputs": [
    {
     "data": {
      "text/plain": [
       "10000"
      ]
     },
     "execution_count": 32,
     "metadata": {},
     "output_type": "execute_result"
    }
   ],
   "source": [
    "int(''.join([str(i) for i in 정답[0]]), 8)"
   ]
  },
  {
   "cell_type": "code",
   "execution_count": 37,
   "metadata": {},
   "outputs": [
    {
     "data": {
      "text/plain": [
       "'C'"
      ]
     },
     "execution_count": 37,
     "metadata": {},
     "output_type": "execute_result"
    }
   ],
   "source": [
    "chr(int(''.join([str(i) for i in 정답[1]]), 8))"
   ]
  },
  {
   "cell_type": "code",
   "execution_count": 43,
   "metadata": {},
   "outputs": [
    {
     "name": "stdout",
     "output_type": "stream",
     "text": [
      "✐\n",
      "C\n",
      "A\n",
      "V\n",
      "E\n"
     ]
    }
   ],
   "source": [
    "for k in range(5) : \n",
    "    print(chr(int(''.join([str(i) for i in 정답[k]]), 8)))"
   ]
  },
  {
   "cell_type": "code",
   "execution_count": 71,
   "metadata": {},
   "outputs": [],
   "source": [
    "import numpy as np\n",
    "\n",
    "첫번째밭 = [\n",
    "    [1, 0, 0, 0, 0],\n",
    "    [0, 0, 1, 0, 1],\n",
    "    [0, 0, 1, 0, 1],\n",
    "    [0, 0, 1, 0, 1],\n",
    "    [0, 0, 1, 0, 1]\n",
    "]\n",
    "\n",
    "\n",
    "두번째밭 = [\n",
    "    [0, 0, 0, 0, 1],\n",
    "    [0, 0, 0, 0, 3],\n",
    "    [0, 0, 0, 0, 4],\n",
    "    [0, 2, 0, 0, 2],\n",
    "    [4, 5, 0, 2, 0]\n",
    "]\n"
   ]
  },
  {
   "cell_type": "code",
   "execution_count": 73,
   "metadata": {},
   "outputs": [
    {
     "data": {
      "text/plain": [
       "[[0, 0, 0, 0, 1],\n",
       " [0, 0, 0, 0, 3],\n",
       " [0, 0, 0, 0, 4],\n",
       " [0, 2, 0, 0, 2],\n",
       " [4, 5, 0, 2, 0]]"
      ]
     },
     "execution_count": 73,
     "metadata": {},
     "output_type": "execute_result"
    }
   ],
   "source": [
    "np.rot90(두번째밭, 1) \n",
    "\n",
    "두번째밭"
   ]
  },
  {
   "cell_type": "code",
   "execution_count": null,
   "metadata": {},
   "outputs": [],
   "source": []
  },
  {
   "cell_type": "code",
   "execution_count": 75,
   "metadata": {},
   "outputs": [],
   "source": [
    "import numpy as np\n",
    "\n",
    "첫번째밭 = [\n",
    "    [1, 0, 0, 0, 0],\n",
    "    [0, 0, 1, 0, 1],\n",
    "    [0, 0, 1, 0, 1],\n",
    "    [0, 0, 1, 0, 1],\n",
    "    [0, 0, 1, 0, 1]\n",
    "]\n",
    "\n",
    "두번째밭 = [\n",
    "    [0, 0, 0, 0, 1],\n",
    "    [0, 0, 0, 0, 3],\n",
    "    [0, 0, 0, 0, 4],\n",
    "    [0, 2, 0, 0, 2],\n",
    "    [4, 5, 0, 2, 0]\n",
    "]\n"
   ]
  },
  {
   "cell_type": "code",
   "execution_count": 77,
   "metadata": {},
   "outputs": [
    {
     "data": {
      "text/plain": [
       "array([[2, 3, 4, 2, 0],\n",
       "       [0, 0, 1, 0, 3],\n",
       "       [0, 0, 1, 0, 1],\n",
       "       [0, 0, 1, 2, 6],\n",
       "       [0, 0, 1, 0, 5]])"
      ]
     },
     "execution_count": 77,
     "metadata": {},
     "output_type": "execute_result"
    }
   ],
   "source": [
    "np.rot90(두번째밭, 1) + np.array(첫번째밭)"
   ]
  },
  {
   "cell_type": "code",
   "execution_count": 79,
   "metadata": {},
   "outputs": [
    {
     "data": {
      "text/plain": [
       "array([[ 0,  3,  4,  2,  0],\n",
       "       [ 0,  0, -1,  0,  1],\n",
       "       [ 0,  0, -1,  0, -1],\n",
       "       [ 0,  0, -1,  2,  4],\n",
       "       [ 0,  0, -1,  0,  3]])"
      ]
     },
     "execution_count": 79,
     "metadata": {},
     "output_type": "execute_result"
    }
   ],
   "source": [
    "np.rot90(두번째밭, 1) - np.array(첫번째밭)"
   ]
  },
  {
   "cell_type": "code",
   "execution_count": 80,
   "metadata": {},
   "outputs": [
    {
     "data": {
      "text/plain": [
       "array([[1, 3, 4, 2, 0],\n",
       "       [0, 0, 0, 0, 2],\n",
       "       [0, 0, 0, 0, 0],\n",
       "       [0, 0, 0, 2, 5],\n",
       "       [0, 0, 0, 0, 4]])"
      ]
     },
     "execution_count": 80,
     "metadata": {},
     "output_type": "execute_result"
    }
   ],
   "source": [
    "array = np.rot90(두번째밭, 1)\n",
    "array"
   ]
  }
 ],
 "metadata": {
  "kernelspec": {
   "display_name": "Python 3",
   "language": "python",
   "name": "python3"
  },
  "language_info": {
   "codemirror_mode": {
    "name": "ipython",
    "version": 3
   },
   "file_extension": ".py",
   "mimetype": "text/x-python",
   "name": "python",
   "nbconvert_exporter": "python",
   "pygments_lexer": "ipython3",
   "version": "3.7.0"
  }
 },
 "nbformat": 4,
 "nbformat_minor": 4
}
