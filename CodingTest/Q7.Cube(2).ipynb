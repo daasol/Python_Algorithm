{
 "cells": [
  {
   "cell_type": "code",
   "execution_count": 16,
   "metadata": {},
   "outputs": [],
   "source": [
    "cross=[[3, 0, 1, 1, 8],\n",
    "      [5, 0, 4, 5, 4],\n",
    "      [1, 5, 0, 5, 1],\n",
    "      [1, 2, 1, 0, 1],\n",
    "      [0, 2, 5, 1, 1]],[[1, 2, 0, 3, 3],\n",
    "     [1, 2, 0, 2, 4],\n",
    "     [1, 2, 0, 2, 4],\n",
    "     [4, 2, 0, 0, 1],\n",
    "     [8, 4, 1, 1, 0]],"
   ]
  },
  {
   "cell_type": "code",
   "execution_count": 17,
   "metadata": {},
   "outputs": [
    {
     "data": {
      "text/plain": [
       "[[3, 0, 1, 1, 8],\n",
       " [5, 0, 4, 5, 4],\n",
       " [1, 5, 0, 5, 1],\n",
       " [1, 2, 1, 0, 1],\n",
       " [0, 2, 5, 1, 1],\n",
       " [1, 2, 0, 3, 3],\n",
       " [1, 2, 0, 2, 4],\n",
       " [1, 2, 0, 2, 4],\n",
       " [4, 2, 0, 0, 1],\n",
       " [8, 4, 1, 1, 0]]"
      ]
     },
     "execution_count": 17,
     "metadata": {},
     "output_type": "execute_result"
    }
   ],
   "source": [
    "cross_=cross[0]+cross[1]\n",
    "cross_"
   ]
  },
  {
   "cell_type": "code",
   "execution_count": 18,
   "metadata": {},
   "outputs": [
    {
     "data": {
      "text/plain": [
       "8"
      ]
     },
     "execution_count": 18,
     "metadata": {},
     "output_type": "execute_result"
    }
   ],
   "source": [
    "cross_[0]\n",
    "cross_[0][4]"
   ]
  },
  {
   "cell_type": "code",
   "execution_count": 19,
   "metadata": {},
   "outputs": [
    {
     "name": "stdout",
     "output_type": "stream",
     "text": [
      "4\n",
      "3\n",
      "2\n",
      "1\n",
      "0\n"
     ]
    }
   ],
   "source": [
    "for i in range(4, -1, -1) : \n",
    "    print(i)"
   ]
  },
  {
   "cell_type": "code",
   "execution_count": 23,
   "metadata": {},
   "outputs": [
    {
     "name": "stdout",
     "output_type": "stream",
     "text": [
      "0 4 8\n",
      "0 3 1\n",
      "0 2 1\n",
      "0 1 0\n",
      "0 0 3\n",
      "1 4 4\n",
      "1 3 5\n",
      "1 2 4\n",
      "1 1 0\n",
      "1 0 5\n",
      "2 4 1\n",
      "2 3 5\n",
      "2 2 0\n",
      "2 1 5\n",
      "2 0 1\n",
      "3 4 1\n",
      "3 3 0\n",
      "3 2 1\n",
      "3 1 2\n",
      "3 0 1\n",
      "4 4 1\n",
      "4 3 1\n",
      "4 2 5\n",
      "4 1 2\n",
      "4 0 0\n",
      "5 4 3\n",
      "5 3 3\n",
      "5 2 0\n",
      "5 1 2\n",
      "5 0 1\n",
      "6 4 4\n",
      "6 3 2\n",
      "6 2 0\n",
      "6 1 2\n",
      "6 0 1\n",
      "7 4 4\n",
      "7 3 2\n",
      "7 2 0\n",
      "7 1 2\n",
      "7 0 1\n",
      "8 4 1\n",
      "8 3 0\n",
      "8 2 0\n",
      "8 1 2\n",
      "8 0 4\n",
      "9 4 0\n",
      "9 3 1\n",
      "9 2 1\n",
      "9 1 4\n",
      "9 0 8\n"
     ]
    }
   ],
   "source": [
    "for i in range(len(cross_)) : \n",
    "    for j in range(4, -1, -1) : \n",
    "        print(i, j, cross_[i][j])"
   ]
  },
  {
   "cell_type": "code",
   "execution_count": 24,
   "metadata": {},
   "outputs": [],
   "source": [
    "c =[[3, 0, 1, 1, 8],\n",
    "      [5, 0, 4, 5, 4],\n",
    "      [1, 5, 0, 5, 1],\n",
    "      [1, 2, 1, 0, 1],\n",
    "    [8, 4, 1, 1, 0]],"
   ]
  },
  {
   "cell_type": "code",
   "execution_count": 26,
   "metadata": {},
   "outputs": [
    {
     "data": {
      "text/plain": [
       "[[0, 0, 0, 0, 0],\n",
       " [0, 0, 0, 0, 0],\n",
       " [0, 0, 0, 0, 0],\n",
       " [0, 0, 0, 0, 0],\n",
       " [0, 0, 0, 0, 0]]"
      ]
     },
     "execution_count": 26,
     "metadata": {},
     "output_type": "execute_result"
    }
   ],
   "source": [
    "acc = [[0 for i in range(5 )] for i in range(5)]\n",
    "acc"
   ]
  },
  {
   "cell_type": "code",
   "execution_count": 28,
   "metadata": {},
   "outputs": [
    {
     "ename": "TypeError",
     "evalue": "'int' object is not subscriptable",
     "output_type": "error",
     "traceback": [
      "\u001b[1;31m---------------------------------------------------------------------------\u001b[0m",
      "\u001b[1;31mTypeError\u001b[0m                                 Traceback (most recent call last)",
      "\u001b[1;32m<ipython-input-28-a1a26823caa6>\u001b[0m in \u001b[0;36m<module>\u001b[1;34m\u001b[0m\n\u001b[0;32m      4\u001b[0m             \u001b[0macc\u001b[0m \u001b[1;33m=\u001b[0m \u001b[0mc\u001b[0m\u001b[1;33m[\u001b[0m\u001b[1;36m0\u001b[0m\u001b[1;33m]\u001b[0m\u001b[1;33m[\u001b[0m\u001b[1;36m0\u001b[0m\u001b[1;33m]\u001b[0m\u001b[1;33m\u001b[0m\u001b[0m\n\u001b[0;32m      5\u001b[0m         \u001b[1;32melif\u001b[0m \u001b[0mi\u001b[0m \u001b[1;33m==\u001b[0m\u001b[1;36m0\u001b[0m \u001b[1;33m:\u001b[0m\u001b[1;33m\u001b[0m\u001b[0m\n\u001b[1;32m----> 6\u001b[1;33m             \u001b[0macc\u001b[0m\u001b[1;33m[\u001b[0m\u001b[0mi\u001b[0m\u001b[1;33m]\u001b[0m\u001b[1;33m[\u001b[0m\u001b[0mj\u001b[0m\u001b[1;33m]\u001b[0m\u001b[1;33m=\u001b[0m\u001b[0macc\u001b[0m\u001b[1;33m[\u001b[0m\u001b[0mi\u001b[0m\u001b[1;33m]\u001b[0m\u001b[1;33m[\u001b[0m\u001b[0mj\u001b[0m\u001b[1;33m-\u001b[0m\u001b[1;36m1\u001b[0m\u001b[1;33m]\u001b[0m\u001b[1;33m+\u001b[0m\u001b[0mc\u001b[0m\u001b[1;33m[\u001b[0m\u001b[0mi\u001b[0m\u001b[1;33m]\u001b[0m\u001b[1;33m[\u001b[0m\u001b[0mj\u001b[0m\u001b[1;33m]\u001b[0m\u001b[1;33m\u001b[0m\u001b[0m\n\u001b[0m\u001b[0;32m      7\u001b[0m         \u001b[1;32melif\u001b[0m \u001b[0mj\u001b[0m \u001b[1;33m==\u001b[0m\u001b[1;36m0\u001b[0m \u001b[1;33m:\u001b[0m\u001b[1;33m\u001b[0m\u001b[0m\n\u001b[0;32m      8\u001b[0m             \u001b[0macc\u001b[0m\u001b[1;33m[\u001b[0m\u001b[0mi\u001b[0m\u001b[1;33m]\u001b[0m\u001b[1;33m[\u001b[0m\u001b[0mj\u001b[0m\u001b[1;33m]\u001b[0m\u001b[1;33m=\u001b[0m\u001b[0macc\u001b[0m\u001b[1;33m[\u001b[0m\u001b[0mi\u001b[0m\u001b[1;33m-\u001b[0m\u001b[1;36m1\u001b[0m\u001b[1;33m]\u001b[0m\u001b[1;33m[\u001b[0m\u001b[0mj\u001b[0m\u001b[1;33m]\u001b[0m\u001b[1;33m+\u001b[0m\u001b[0mc\u001b[0m\u001b[1;33m[\u001b[0m\u001b[0mi\u001b[0m\u001b[1;33m]\u001b[0m\u001b[1;33m[\u001b[0m\u001b[0mj\u001b[0m\u001b[1;33m]\u001b[0m\u001b[1;33m\u001b[0m\u001b[0m\n",
      "\u001b[1;31mTypeError\u001b[0m: 'int' object is not subscriptable"
     ]
    }
   ],
   "source": [
    "for i in range(5) : \n",
    "    for j in range(5) : \n",
    "        if i ==0 and j==0 : \n",
    "            acc = c[0][0]\n",
    "        elif i ==0 : \n",
    "            acc[i][j]=acc[i][j-1]+c[i][j]\n",
    "        elif j ==0 : \n",
    "            acc[i][j]=acc[i-1][j]+c[i][j]\n",
    "        else : \n",
    "            acc[i][j] = min(acc[i][j-1], acc[i-1][j])+c[i][j]"
   ]
  },
  {
   "cell_type": "code",
   "execution_count": null,
   "metadata": {},
   "outputs": [],
   "source": []
  }
 ],
 "metadata": {
  "kernelspec": {
   "display_name": "Python 3",
   "language": "python",
   "name": "python3"
  },
  "language_info": {
   "codemirror_mode": {
    "name": "ipython",
    "version": 3
   },
   "file_extension": ".py",
   "mimetype": "text/x-python",
   "name": "python",
   "nbconvert_exporter": "python",
   "pygments_lexer": "ipython3",
   "version": "3.7.0"
  }
 },
 "nbformat": 4,
 "nbformat_minor": 4
}
